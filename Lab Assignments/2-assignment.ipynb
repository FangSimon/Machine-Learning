{
 "cells": [
  {
   "cell_type": "markdown",
   "metadata": {
    "raw_mimetype": "text/markdown"
   },
   "source": [
    "# Lab Assignment 2\n",
    "\n",
    "In the third assignment you will classify hand-written digits using logistic regression.\n",
    "\n",
    "The assignment follows Andrew Ng's explanation of Logistic Regression and (re)watching his videos could be useful (Week 3)\n",
    "\n",
    "Publish your notebook (ipynb file) to your Machine Learning () repository on Github.\n",
    "\n",
    "### Deadline October 26th, 23:59\n",
    "\n",
    "Do not hand in any other files, the Notebook should contain all your answers."
   ]
  },
  {
   "cell_type": "code",
   "execution_count": 68,
   "metadata": {
    "collapsed": false
   },
   "outputs": [
    {
     "name": "stdout",
     "output_type": "stream",
     "text": [
      "Populating the interactive namespace from numpy and matplotlib\n"
     ]
    }
   ],
   "source": [
    "%pylab inline\n",
    "import numpy as np\n",
    "from __future__ import division"
   ]
  },
  {
   "cell_type": "markdown",
   "metadata": {},
   "source": [
    "Scikit-learn has the dataset built in. The dataset contains images of hand-written digits that are only 8 by 8 pixels, which means the algorithm (logistic regression) should run on every computer.\n",
    "\n",
    "The code in the following cell shows how to work with the digits dataset and  how to visualize it. As you can see the numbers are not very clear in 8x8 pixels images, this means we cannot expect our logistic regression will have a very high classification score."
   ]
  },
  {
   "cell_type": "code",
   "execution_count": 69,
   "metadata": {
    "collapsed": false
   },
   "outputs": [
    {
     "name": "stdout",
     "output_type": "stream",
     "text": [
      "The numbers shown are: \n",
      "[[0 1 2 3 4]\n",
      " [5 6 7 8 9]]\n"
     ]
    },
    {
     "data": {
      "image/png": "[encoded data removed]",
      "text/plain": [
       "<matplotlib.figure.Figure at 0x10f71f910>"
      ]
     },
     "metadata": {},
     "output_type": "display_data"
    }
   ],
   "source": [
    "from sklearn.datasets import load_digits\n",
    "\n",
    "digits = load_digits(n_class=10)\n",
    "\n",
    "#Create two rows with numbers\n",
    "firstrow = np.hstack(digits.images[:5,:,:])\n",
    "secondrow = np.hstack(digits.images[5:10,:,:])\n",
    "\n",
    "plt.gray()\n",
    "plt.axis('off')\n",
    "\n",
    "#Show both rows at the same time\n",
    "plt.imshow(np.vstack((firstrow,secondrow)), interpolation = 'nearest')\n",
    "\n",
    "print \"The numbers shown are: \\n\", np.vstack((digits.target[:5], digits.target[5:10]))"
   ]
  },
  {
   "cell_type": "markdown",
   "metadata": {},
   "source": [
    "## The implementation\n",
    "\n",
    "You have to implement the next three functions and fill in the body of the loop in order to create a correct implementation of logistic regression. Don't change the definitions of the functions and input parameters.\n",
    "\n",
    "Make sure that you do not overfit by keeping track of the score on the test set and implementing a correct stop condition. Also pick a learning rate alpha that makes sure the algorithm learns in a smooth and stable manner.\n",
    "\n",
    "Plot how your score on the test set improves over time. My best score was about 85% correct!\n",
    "\n",
    "Make sure to comment your code."
   ]
  },
  {
   "cell_type": "code",
   "execution_count": 70,
   "metadata": {
    "collapsed": false
   },
   "outputs": [],
   "source": [
    "#Make a prediction function h\n",
    "def prediction_function(x,theta):\n",
    "# The prediction function takes x and theta as an input, \n",
    "# which are both vectors and outputs a vector. \n",
    "    return 1/(1+exp(-1*np.dot(x, theta)))"
   ]
  },
  {
   "cell_type": "code",
   "execution_count": 71,
   "metadata": {
    "collapsed": true
   },
   "outputs": [],
   "source": [
    "#Use the output of that function to compute the cost function J:\n",
    "def safe_log(x): \n",
    "#We define a new function that prevents NaN as an output of the cost_function\n",
    "#The function returns a 0 when it is negative or equal to zero\n",
    "#Otherwise it returns the log value of x\n",
    "    if x <= 0: \n",
    "        return 0\n",
    "    return np.log(x)\n",
    "\n",
    "def cost_function(x_predict,y):  \n",
    "# The cost_function takes in two vectors x_predict and y, \n",
    "# and outputs a scalar, which gives error of x_predict. \n",
    "# The function calculates the following:\n",
    "# J(theta) = (1/m) * sum_{i=1}^m (y^i * log(h(x^i))) + (1-y^i)log(1-h(x^i))\n",
    "    m = len(y)\n",
    "    J = 0 \n",
    "    for i in range(m):\n",
    "        temp = y[i] * safe_log(x_predict[i]) + (1-y[i]) * safe_log(1-x_predict[i])\n",
    "        J = J + temp\n",
    "    return (-1/m) * J"
   ]
  },
  {
   "cell_type": "code",
   "execution_count": 72,
   "metadata": {
    "collapsed": true
   },
   "outputs": [],
   "source": [
    "#Create a function that returns the gradient values, given h (x_predict), y and x:\n",
    "def compute_gradient(x_predict, y, x):\n",
    "# For the gradient descent, we have to update the theta values simultaneously\n",
    "# Therefore, we have to store all the gradient values in one matrix and \n",
    "# the gradient value for each theta_j is given by \n",
    "# (x^i - y^i)x_j\n",
    "    gradJ = np.zeros((64,10))\n",
    "    m = len(y)\n",
    "    for i in range(m):\n",
    "        gradJ[:,i] = (x_predict[i] - y[i])*x\n",
    "    return gradJ "
   ]
  },
  {
   "cell_type": "code",
   "execution_count": 81,
   "metadata": {
    "collapsed": false
   },
   "outputs": [
    {
     "name": "stdout",
     "output_type": "stream",
     "text": [
      "total number of correct predictions: 251 digits\n",
      "total number of incorrect predictions: 46 digits\n",
      "accuracy: 85.0%\n"
     ]
    },
    {
     "data": {
      "image/png": "[encoded data removed]",
      "text/plain": [
       "<matplotlib.figure.Figure at 0x10e4d41d0>"
      ]
     },
     "metadata": {},
     "output_type": "display_data"
    }
   ],
   "source": [
    "#Choose a suitable learning rate\n",
    "alpha = 0.001 # alpha = 0.001 gives us an accuracy of 85%. Lowering alpha gives us a higher accuracy\n",
    "iterations = 25\n",
    "theta = np.zeros((64,10))\n",
    "\n",
    "#It is important to check that you're not overfitting by testing your prediction on a testset\n",
    "x = np.reshape(digits.images[:1500],(1500,64))\n",
    "x_test = np.reshape(digits.images[1500:],(297,64))\n",
    "\n",
    "target = digits.target[:1500]\n",
    "target_test = digits.target[1500:]\n",
    "\n",
    "# cost_vec = np.zeros(1500)\n",
    "\n",
    "for i in range(iterations):\n",
    "    for j in range(x.shape[0]):\n",
    "        x_predict = prediction_function(x[j,:].T,theta)\n",
    "        y = np.zeros(10)\n",
    "        y[target[j]] = 1\n",
    "        \n",
    "#        cost_vec[j] = cost_function(x_predict,y)\n",
    "        # we update the theta simulatenously and store each theta \n",
    "        theta = theta - alpha * compute_gradient(x_predict, y, x[j,:])\n",
    "        \n",
    "totalIterations = shape(x_test)[0]\n",
    "counter = 0\n",
    "accuracy_vec = 0 \n",
    "for i in range(totalIterations):\n",
    "    x_predict = prediction_function(x_test[i], theta)\n",
    "    if argmax(x_predict) == target_test[i]:\n",
    "        counter = counter + 1\n",
    "        accuracy = (counter/(i+1))*100\n",
    "    accuracy_vec = np.append(accuracy_vec, accuracy)\n",
    "        \n",
    "plt.plot(accuracy_vec)\n",
    "\n",
    "wrong = totalIterations - counter\n",
    "percent = round((counter/totalIterations)*100)\n",
    "print \"total number of correct predictions: \" + str(counter) + \" digits\"\n",
    "print \"total number of incorrect predictions: \" + str(wrong) + \" digits\"\n",
    "print \"accuracy: \" + str(percent) + \"%\"\n"
   ]
  },
  {
   "cell_type": "code",
   "execution_count": null,
   "metadata": {
    "collapsed": true
   },
   "outputs": [],
   "source": []
  }
 ],
 "metadata": {
  "anaconda-cloud": {},
  "celltoolbar": "Raw Cell Format",
  "kernelspec": {
   "display_name": "Python [Root]",
   "language": "python",
   "name": "Python [Root]"
  },
  "language_info": {
   "codemirror_mode": {
    "name": "ipython",
    "version": 2
   },
   "file_extension": ".py",
   "mimetype": "text/x-python",
   "name": "python",
   "nbconvert_exporter": "python",
   "pygments_lexer": "ipython2",
   "version": "2.7.12"
  }
 },
 "nbformat": 4,
 "nbformat_minor": 0
}
